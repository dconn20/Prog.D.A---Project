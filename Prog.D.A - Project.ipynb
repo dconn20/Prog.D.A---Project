{
 "cells": [
  {
   "cell_type": "markdown",
   "metadata": {},
   "source": [
    "# Programming for Data Analysis\n",
    "\n",
    "## Project\n",
    "<br/>\n",
    "\n",
    "#### Lecturer: Brian McGinley\n",
    "\n",
    "#### Student: Damien Connolly\n",
    "\n",
    "#### Student number: G00340321\n",
    "<br/>\n",
    "\n",
    "**************************************************************************************************************************"
   ]
  },
  {
   "cell_type": "markdown",
   "metadata": {},
   "source": [
    "#### Introduction\n",
    "\n",
    "The aim of this project is to create a dataset by simulating a real-world phenomenon. It was important when selecting a database to ensure the dataset created can be measured and created using the numpy random package. \n",
    "\n",
    "\n",
    "### Task:\n",
    "Choose a real-world phenomenon that can be measured and for which you could collect at least one-hundred data points across at least four different variables.\n",
    "\n",
    "Investigate the types of variables involved, their likely distributions, and their relationships with each other.\n",
    "\n",
    "Synthesise/simulate a data set as closely matching their properties as possible.\n",
    "\n",
    "Detail your research and implement the simulation in a Jupyter notebook – the data set itself can simply be displayed in an output cell within the notebook.\n",
    "****************************************************************************************************************************\n",
    "<br/>\n",
    "\n",
    "I have chosen to simulate data about homeless persons in Ireland between the ages 15 - 64. I have chosen the following variables:\n",
    "\n",
    "* Gender\n",
    "\n",
    "* Age\n",
    "\n",
    "* Location\n",
    "\n",
    "* Accomodation Type\n",
    "\n",
    "The statistics used in this project can be found here: https://www.cso.ie/en/releasesandpublications/ep/p-cp5hpi/cp5hpi/hpi/\n",
    "\n",
    "*****************************************************************************************************************************"
   ]
  },
  {
   "cell_type": "markdown",
   "metadata": {},
   "source": [
    "The Central Statistics Office (CSO) is Ireland's national statistical office and its purpose is to impartially collect, analyse and make available statistics about Ireland’s people, society and economy. At national level, CSO official statistics inform decision making across a range of areas including construction, health, welfare, the environment and the economy. At European level they provide an accurate picture of Ireland’s economic and social performance and enable comparisons between Ireland and other countries [1]. \n",
    "\n",
    "The homeless persons in Ireland stats used for this project are taken from the 2016 census. Of the 4,761,865 persons enumerated in the State on Census Night, April 24 2016, 6,906 were either counted in accommodation providing shelter for homeless persons or were identified sleeping rough [1]. \n",
    "\n",
    "\n",
    "\n"
   ]
  },
  {
   "cell_type": "code",
   "execution_count": 1,
   "metadata": {},
   "outputs": [],
   "source": [
    "# Import libraries used in this notebook\n",
    "\n",
    "import numpy as np\n",
    "import pandas as pd\n",
    "import matplotlib.pyplot as plt\n",
    "import seaborn as sns\n",
    "from scipy import stats\n",
    "\n",
    "# Magic command to ensure that plots render inline [https://stackoverflow.com/questions/43027980/purpose-of-matplotlib-inline]\n",
    "%matplotlib inline\n",
    "\n",
    "# Set seaborn style\n",
    "# Use darkplot plot style for contrast\n",
    "sns.set_style(\"darkgrid\")\n",
    "# Set the default colour palette\n",
    "sns.set_palette(\"colorblind\")"
   ]
  },
  {
   "cell_type": "code",
   "execution_count": 2,
   "metadata": {},
   "outputs": [],
   "source": [
    "# Create empty dataframe\n",
    "#df = pd.DataFrame()"
   ]
  },
  {
   "cell_type": "markdown",
   "metadata": {},
   "source": [
    "### Variables\n",
    "***************************************************************************************************************************\n",
    "\n",
    "#### Gender\n",
    "\n",
    "According to the figures 6,906 people in total were counted to be homeless on census night in 2016. Males accounted for 4,018 of those people while the total number of females was 2,888 [1]. \n",
    "\n",
    "For the purpose of this project we will be looking at people between the ages of 15 and 64. The age profile statistics provided allow us to remove the people outside of the specified age range easily. The total number of people between the ages 15 - 64 to be simulated will be 4,969. This includes 2,980 males and 1,989 females, meaning males account for approximately 60% and females 40%.  "
   ]
  },
  {
   "cell_type": "markdown",
   "metadata": {},
   "source": [
    "In order to simulate an accurate number of both genders I have decided to use the numpy.random.choice function. This allows us to distribute the data to match the real world and it also can return a string which is useful when there are no numerical values involved. "
   ]
  },
  {
   "cell_type": "code",
   "execution_count": 3,
   "metadata": {},
   "outputs": [],
   "source": [
    "# Set the random seed so the numbers will stay the same each time the cell is executed\n",
    "np.random.seed(1234) \n",
    "\n",
    "# Define the gender variables\n",
    "choice = [\"Male\", \"Female\"]\n",
    "\n",
    "# Simulate the gender\n",
    "gender = np.random.choice(choice, 4969, p=[0.5997, 0.4003])\n"
   ]
  },
  {
   "cell_type": "code",
   "execution_count": 4,
   "metadata": {},
   "outputs": [
    {
     "data": {
      "image/png": "[encoded data removed]",
      "text/plain": [
       "<Figure size 432x288 with 1 Axes>"
      ]
     },
     "metadata": {},
     "output_type": "display_data"
    }
   ],
   "source": [
    "# Visualise the data\n",
    "\n",
    "# Adapted from: https://pythonspot.com/matplotlib-pie-chart/ \n",
    "\n",
    "# Data to plot\n",
    "labels = 'Male', 'Female'\n",
    "slices_gender = [0.5997, 0.4003]\n",
    "colors = ['lightskyblue', 'lightcoral']\n",
    "explode = (0.1, 0)  # explode 1st slice\n",
    "\n",
    "# Plot\n",
    "plt.pie(slices_gender, explode=explode, labels=labels, colors=colors,\n",
    "autopct='%1.1f%%', shadow=True, startangle=140, textprops={'fontsize': 30})\n",
    "plt.title(\"\\nGender of people homeless\\n\", fontweight=\"bold\", fontsize=\"20\", color=\"g\")\n",
    "\n",
    "plt.axis('equal')\n",
    "plt.show()"
   ]
  },
  {
   "cell_type": "code",
   "execution_count": 5,
   "metadata": {},
   "outputs": [
    {
     "data": {
      "text/html": [
       "<div>\n",
       "<style scoped>\n",
       "    .dataframe tbody tr th:only-of-type {\n",
       "        vertical-align: middle;\n",
       "    }\n",
       "\n",
       "    .dataframe tbody tr th {\n",
       "        vertical-align: top;\n",
       "    }\n",
       "\n",
       "    .dataframe thead th {\n",
       "        text-align: right;\n",
       "    }\n",
       "</style>\n",
       "<table border=\"1\" class=\"dataframe\">\n",
       "  <thead>\n",
       "    <tr style=\"text-align: right;\">\n",
       "      <th></th>\n",
       "      <th>Gender</th>\n",
       "    </tr>\n",
       "  </thead>\n",
       "  <tbody>\n",
       "    <tr>\n",
       "      <th>0</th>\n",
       "      <td>Male</td>\n",
       "    </tr>\n",
       "    <tr>\n",
       "      <th>1</th>\n",
       "      <td>Female</td>\n",
       "    </tr>\n",
       "    <tr>\n",
       "      <th>2</th>\n",
       "      <td>Male</td>\n",
       "    </tr>\n",
       "    <tr>\n",
       "      <th>3</th>\n",
       "      <td>Female</td>\n",
       "    </tr>\n",
       "    <tr>\n",
       "      <th>4</th>\n",
       "      <td>Female</td>\n",
       "    </tr>\n",
       "    <tr>\n",
       "      <th>...</th>\n",
       "      <td>...</td>\n",
       "    </tr>\n",
       "    <tr>\n",
       "      <th>4964</th>\n",
       "      <td>Male</td>\n",
       "    </tr>\n",
       "    <tr>\n",
       "      <th>4965</th>\n",
       "      <td>Male</td>\n",
       "    </tr>\n",
       "    <tr>\n",
       "      <th>4966</th>\n",
       "      <td>Female</td>\n",
       "    </tr>\n",
       "    <tr>\n",
       "      <th>4967</th>\n",
       "      <td>Male</td>\n",
       "    </tr>\n",
       "    <tr>\n",
       "      <th>4968</th>\n",
       "      <td>Female</td>\n",
       "    </tr>\n",
       "  </tbody>\n",
       "</table>\n",
       "<p>4969 rows × 1 columns</p>\n",
       "</div>"
      ],
      "text/plain": [
       "      Gender\n",
       "0       Male\n",
       "1     Female\n",
       "2       Male\n",
       "3     Female\n",
       "4     Female\n",
       "...      ...\n",
       "4964    Male\n",
       "4965    Male\n",
       "4966  Female\n",
       "4967    Male\n",
       "4968  Female\n",
       "\n",
       "[4969 rows x 1 columns]"
      ]
     },
     "execution_count": 5,
     "metadata": {},
     "output_type": "execute_result"
    }
   ],
   "source": [
    "# Create dataset by adding Gender\n",
    "df = pd.DataFrame(data={\"Gender\": gender})\n",
    "df"
   ]
  },
  {
   "cell_type": "markdown",
   "metadata": {},
   "source": [
    "#### Age Group\n",
    "\n",
    "According to the CSO, the homeless population tended to be younger than the general population. The average age of a homeless person was 30.5 years compared to the higher 37.4 average age for the general population. There were 4,464 homeless persons in the age group 20-59, accounting for 64.6 per cent of the total homeless count. The corresponding proportion for the overall population of the State was 54.1 per cent. The average age for females was 26.8 years compared with the higher 33.2 years for males. This contrasted with the general population where the average female age was 38.0 years compared with the lower average age of 36.7 years for males [1].\n"
   ]
  },
  {
   "cell_type": "code",
   "execution_count": 6,
   "metadata": {},
   "outputs": [
    {
     "data": {
      "text/html": [
       "<div>\n",
       "<style scoped>\n",
       "    .dataframe tbody tr th:only-of-type {\n",
       "        vertical-align: middle;\n",
       "    }\n",
       "\n",
       "    .dataframe tbody tr th {\n",
       "        vertical-align: top;\n",
       "    }\n",
       "\n",
       "    .dataframe thead th {\n",
       "        text-align: right;\n",
       "    }\n",
       "</style>\n",
       "<table border=\"1\" class=\"dataframe\">\n",
       "  <thead>\n",
       "    <tr style=\"text-align: right;\">\n",
       "      <th></th>\n",
       "      <th>Age-group</th>\n",
       "      <th>Male</th>\n",
       "      <th>Female</th>\n",
       "      <th>Total</th>\n",
       "    </tr>\n",
       "  </thead>\n",
       "  <tbody>\n",
       "    <tr>\n",
       "      <th>0</th>\n",
       "      <td>0-4</td>\n",
       "      <td>379</td>\n",
       "      <td>386</td>\n",
       "      <td>765</td>\n",
       "    </tr>\n",
       "    <tr>\n",
       "      <th>1</th>\n",
       "      <td>5-9</td>\n",
       "      <td>292</td>\n",
       "      <td>273</td>\n",
       "      <td>565</td>\n",
       "    </tr>\n",
       "    <tr>\n",
       "      <th>2</th>\n",
       "      <td>10-14</td>\n",
       "      <td>190</td>\n",
       "      <td>174</td>\n",
       "      <td>364</td>\n",
       "    </tr>\n",
       "    <tr>\n",
       "      <th>3</th>\n",
       "      <td>15-19</td>\n",
       "      <td>165</td>\n",
       "      <td>170</td>\n",
       "      <td>335</td>\n",
       "    </tr>\n",
       "    <tr>\n",
       "      <th>4</th>\n",
       "      <td>20-24</td>\n",
       "      <td>286</td>\n",
       "      <td>335</td>\n",
       "      <td>621</td>\n",
       "    </tr>\n",
       "    <tr>\n",
       "      <th>5</th>\n",
       "      <td>25-29</td>\n",
       "      <td>355</td>\n",
       "      <td>375</td>\n",
       "      <td>730</td>\n",
       "    </tr>\n",
       "    <tr>\n",
       "      <th>6</th>\n",
       "      <td>30-34</td>\n",
       "      <td>381</td>\n",
       "      <td>297</td>\n",
       "      <td>678</td>\n",
       "    </tr>\n",
       "    <tr>\n",
       "      <th>7</th>\n",
       "      <td>35-39</td>\n",
       "      <td>436</td>\n",
       "      <td>263</td>\n",
       "      <td>699</td>\n",
       "    </tr>\n",
       "    <tr>\n",
       "      <th>8</th>\n",
       "      <td>40-44</td>\n",
       "      <td>384</td>\n",
       "      <td>198</td>\n",
       "      <td>582</td>\n",
       "    </tr>\n",
       "    <tr>\n",
       "      <th>9</th>\n",
       "      <td>45-49</td>\n",
       "      <td>348</td>\n",
       "      <td>151</td>\n",
       "      <td>499</td>\n",
       "    </tr>\n",
       "    <tr>\n",
       "      <th>10</th>\n",
       "      <td>50-54</td>\n",
       "      <td>290</td>\n",
       "      <td>86</td>\n",
       "      <td>376</td>\n",
       "    </tr>\n",
       "    <tr>\n",
       "      <th>11</th>\n",
       "      <td>55-59</td>\n",
       "      <td>213</td>\n",
       "      <td>66</td>\n",
       "      <td>279</td>\n",
       "    </tr>\n",
       "    <tr>\n",
       "      <th>12</th>\n",
       "      <td>60-64</td>\n",
       "      <td>122</td>\n",
       "      <td>48</td>\n",
       "      <td>170</td>\n",
       "    </tr>\n",
       "    <tr>\n",
       "      <th>13</th>\n",
       "      <td>65-69</td>\n",
       "      <td>103</td>\n",
       "      <td>26</td>\n",
       "      <td>129</td>\n",
       "    </tr>\n",
       "    <tr>\n",
       "      <th>14</th>\n",
       "      <td>70-74</td>\n",
       "      <td>44</td>\n",
       "      <td>13</td>\n",
       "      <td>57</td>\n",
       "    </tr>\n",
       "    <tr>\n",
       "      <th>15</th>\n",
       "      <td>75+</td>\n",
       "      <td>30</td>\n",
       "      <td>27</td>\n",
       "      <td>57</td>\n",
       "    </tr>\n",
       "    <tr>\n",
       "      <th>16</th>\n",
       "      <td>Total</td>\n",
       "      <td>4018</td>\n",
       "      <td>2888</td>\n",
       "      <td>6906</td>\n",
       "    </tr>\n",
       "  </tbody>\n",
       "</table>\n",
       "</div>"
      ],
      "text/plain": [
       "   Age-group  Male  Female  Total\n",
       "0        0-4   379     386    765\n",
       "1        5-9   292     273    565\n",
       "2      10-14   190     174    364\n",
       "3      15-19   165     170    335\n",
       "4      20-24   286     335    621\n",
       "5      25-29   355     375    730\n",
       "6      30-34   381     297    678\n",
       "7      35-39   436     263    699\n",
       "8      40-44   384     198    582\n",
       "9      45-49   348     151    499\n",
       "10     50-54   290      86    376\n",
       "11     55-59   213      66    279\n",
       "12     60-64   122      48    170\n",
       "13     65-69   103      26    129\n",
       "14     70-74    44      13     57\n",
       "15       75+    30      27     57\n",
       "16     Total  4018    2888   6906"
      ]
     },
     "execution_count": 6,
     "metadata": {},
     "output_type": "execute_result"
    }
   ],
   "source": [
    "# View age data\n",
    "agefile = pd.read_excel(\"ageStatsTotal.xlsx\")\n",
    "agefile"
   ]
  },
  {
   "cell_type": "code",
   "execution_count": 7,
   "metadata": {},
   "outputs": [],
   "source": [
    "# Remove final total row for plotting purposes\n",
    "af = agefile.drop([16])"
   ]
  },
  {
   "cell_type": "code",
   "execution_count": 8,
   "metadata": {},
   "outputs": [
    {
     "data": {
      "text/plain": [
       "Text(0.5, 1.0, 'Distribution of Ages')"
      ]
     },
     "execution_count": 8,
     "metadata": {},
     "output_type": "execute_result"
    },
    {
     "data": {
      "image/png": "[encoded data removed]",
      "text/plain": [
       "<Figure size 720x360 with 1 Axes>"
      ]
     },
     "metadata": {},
     "output_type": "display_data"
    }
   ],
   "source": [
    "# Plot the total to visualise the age distribution\n",
    "sns.relplot(x=\"Age-group\", y=\"Total\", kind=\"line\", data=af, height=5, aspect=2) # Use aspect to make plot wider\n",
    "plt.xlabel('Age-group')\n",
    "plt.ylabel('Total')\n",
    "plt.title('Distribution of Ages', fontsize=14)"
   ]
  },
  {
   "cell_type": "markdown",
   "metadata": {},
   "source": [
    "As stated we are looking at people within the age range 15 - 64. By looking at the distribution starting from the age of 15 up to 64 the plot seems likely that it could be replicated using a triangular distribution. The triangular distribution is a continuous probability distribution with lower limit left, peak at mode, and upper limit right [2]. It should be possible to simulate the distribution using these parameters.\n",
    "\n",
    "* Lower limit: The Starting point of the triangle. We will be starting from 15.\n",
    "\n",
    "\n",
    "* Mode: The highest frequency i.e. the age with the greatest proportion of the population. From the stats we can see that the age-range 24 - 29 has the highest number of males and females combined accounting for 730. So for the purpose of this project I will set the mode to 27. \n",
    "\n",
    "\n",
    "* Upper limit: The Ending point of the triangle. 64 in this case."
   ]
  },
  {
   "cell_type": "code",
   "execution_count": 20,
   "metadata": {},
   "outputs": [
    {
     "name": "stdout",
     "output_type": "stream",
     "text": [
      "The minimum age is : 15.238761396278328 \n",
      "The maximum age is : 63.52545060545586 \n",
      "The median age is  : 33.97701892414525\n"
     ]
    }
   ],
   "source": [
    "# Simulate ages\n",
    "\n",
    "# Set the seed\n",
    "np.random.seed(1)\n",
    "\n",
    "# Set the parameters and generate ages using the triangular distribution\n",
    "age = np.random.triangular(15, 27, 64, 4969)\n",
    "\n",
    "# Print the min, max and median age generated from the array\n",
    "print(\"The minimum age is :\", min(age),\"\\nThe maximum age is :\", max(age),\"\\nThe median age is  :\", np.median(age))"
   ]
  },
  {
   "cell_type": "code",
   "execution_count": 21,
   "metadata": {},
   "outputs": [
    {
     "data": {
      "text/plain": [
       "Text(0.5, 1.0, 'Distribution of Ages')"
      ]
     },
     "execution_count": 21,
     "metadata": {},
     "output_type": "execute_result"
    },
    {
     "data": {
      "image/png": "[encoded data removed]",
      "text/plain": [
       "<Figure size 720x360 with 1 Axes>"
      ]
     },
     "metadata": {},
     "output_type": "display_data"
    }
   ],
   "source": [
    "# Plot distribution\n",
    "sns.displot(kde=\"line\", data=age, aspect = 2)\n",
    "plt.xlabel('Age-group')\n",
    "plt.ylabel('Count')\n",
    "plt.title('Distribution of Ages', fontsize=14)"
   ]
  },
  {
   "cell_type": "markdown",
   "metadata": {},
   "source": [
    "The distribution created above looks fairly similar to the original distribution. This array currently contains floats, I can easily round them off to their nearest integer using np.rint. "
   ]
  },
  {
   "cell_type": "code",
   "execution_count": 22,
   "metadata": {},
   "outputs": [
    {
     "name": "stdout",
     "output_type": "stream",
     "text": [
      "The minimum age is : 15.0 \n",
      "The maximum age is : 64.0 \n",
      "The median age is  : 34.0\n"
     ]
    }
   ],
   "source": [
    "# Round off to nearest integer\n",
    "fAge = np.rint(age)\n",
    "\n",
    "# Print the min, max and median age generated from the array\n",
    "print(\"The minimum age is :\", min(fAge),\"\\nThe maximum age is :\", max(fAge),\"\\nThe median age is  :\", np.median(fAge))"
   ]
  },
  {
   "cell_type": "code",
   "execution_count": 23,
   "metadata": {},
   "outputs": [],
   "source": [
    "# Add Age to the dataframe\n",
    "df['Age'] = fAge"
   ]
  },
  {
   "cell_type": "code",
   "execution_count": 24,
   "metadata": {},
   "outputs": [
    {
     "data": {
      "text/html": [
       "<div>\n",
       "<style scoped>\n",
       "    .dataframe tbody tr th:only-of-type {\n",
       "        vertical-align: middle;\n",
       "    }\n",
       "\n",
       "    .dataframe tbody tr th {\n",
       "        vertical-align: top;\n",
       "    }\n",
       "\n",
       "    .dataframe thead th {\n",
       "        text-align: right;\n",
       "    }\n",
       "</style>\n",
       "<table border=\"1\" class=\"dataframe\">\n",
       "  <thead>\n",
       "    <tr style=\"text-align: right;\">\n",
       "      <th></th>\n",
       "      <th>Gender</th>\n",
       "      <th>Age</th>\n",
       "      <th>Location</th>\n",
       "      <th>Accomodation Type</th>\n",
       "    </tr>\n",
       "  </thead>\n",
       "  <tbody>\n",
       "    <tr>\n",
       "      <th>0</th>\n",
       "      <td>Male</td>\n",
       "      <td>31.0</td>\n",
       "      <td>Dublin</td>\n",
       "      <td>In Accomodation</td>\n",
       "    </tr>\n",
       "    <tr>\n",
       "      <th>1</th>\n",
       "      <td>Female</td>\n",
       "      <td>41.0</td>\n",
       "      <td>Dublin</td>\n",
       "      <td>In Accomodation</td>\n",
       "    </tr>\n",
       "    <tr>\n",
       "      <th>2</th>\n",
       "      <td>Male</td>\n",
       "      <td>15.0</td>\n",
       "      <td>Dublin</td>\n",
       "      <td>In Accomodation</td>\n",
       "    </tr>\n",
       "    <tr>\n",
       "      <th>3</th>\n",
       "      <td>Female</td>\n",
       "      <td>28.0</td>\n",
       "      <td>Dublin</td>\n",
       "      <td>In Accomodation</td>\n",
       "    </tr>\n",
       "    <tr>\n",
       "      <th>4</th>\n",
       "      <td>Female</td>\n",
       "      <td>24.0</td>\n",
       "      <td>Dublin</td>\n",
       "      <td>In Accomodation</td>\n",
       "    </tr>\n",
       "    <tr>\n",
       "      <th>...</th>\n",
       "      <td>...</td>\n",
       "      <td>...</td>\n",
       "      <td>...</td>\n",
       "      <td>...</td>\n",
       "    </tr>\n",
       "    <tr>\n",
       "      <th>4964</th>\n",
       "      <td>Male</td>\n",
       "      <td>40.0</td>\n",
       "      <td>Dublin</td>\n",
       "      <td>In Accomodation</td>\n",
       "    </tr>\n",
       "    <tr>\n",
       "      <th>4965</th>\n",
       "      <td>Male</td>\n",
       "      <td>51.0</td>\n",
       "      <td>Dublin</td>\n",
       "      <td>In Accomodation</td>\n",
       "    </tr>\n",
       "    <tr>\n",
       "      <th>4966</th>\n",
       "      <td>Female</td>\n",
       "      <td>28.0</td>\n",
       "      <td>Mid West</td>\n",
       "      <td>In Accomodation</td>\n",
       "    </tr>\n",
       "    <tr>\n",
       "      <th>4967</th>\n",
       "      <td>Male</td>\n",
       "      <td>54.0</td>\n",
       "      <td>Dublin</td>\n",
       "      <td>In Accomodation</td>\n",
       "    </tr>\n",
       "    <tr>\n",
       "      <th>4968</th>\n",
       "      <td>Female</td>\n",
       "      <td>48.0</td>\n",
       "      <td>Mid West</td>\n",
       "      <td>In Accomodation</td>\n",
       "    </tr>\n",
       "  </tbody>\n",
       "</table>\n",
       "<p>4969 rows × 4 columns</p>\n",
       "</div>"
      ],
      "text/plain": [
       "      Gender   Age  Location Accomodation Type\n",
       "0       Male  31.0    Dublin   In Accomodation\n",
       "1     Female  41.0    Dublin   In Accomodation\n",
       "2       Male  15.0    Dublin   In Accomodation\n",
       "3     Female  28.0    Dublin   In Accomodation\n",
       "4     Female  24.0    Dublin   In Accomodation\n",
       "...      ...   ...       ...               ...\n",
       "4964    Male  40.0    Dublin   In Accomodation\n",
       "4965    Male  51.0    Dublin   In Accomodation\n",
       "4966  Female  28.0  Mid West   In Accomodation\n",
       "4967    Male  54.0    Dublin   In Accomodation\n",
       "4968  Female  48.0  Mid West   In Accomodation\n",
       "\n",
       "[4969 rows x 4 columns]"
      ]
     },
     "execution_count": 24,
     "metadata": {},
     "output_type": "execute_result"
    }
   ],
   "source": [
    "# View dataframe\n",
    "df"
   ]
  },
  {
   "cell_type": "code",
   "execution_count": 28,
   "metadata": {},
   "outputs": [
    {
     "data": {
      "text/plain": [
       "<matplotlib.axes._subplots.AxesSubplot at 0x1f3cf6261c0>"
      ]
     },
     "execution_count": 28,
     "metadata": {},
     "output_type": "execute_result"
    },
    {
     "data": {
      "image/png": "[encoded data removed]",
      "text/plain": [
       "<Figure size 432x288 with 1 Axes>"
      ]
     },
     "metadata": {},
     "output_type": "display_data"
    }
   ],
   "source": [
    "df.plot(x='Gender', y='Age', kind=\"hist\")"
   ]
  },
  {
   "cell_type": "markdown",
   "metadata": {},
   "source": [
    "#### Location\n",
    "\n",
    "The table below shows the distribution of homeless persons by region. The results show that 72.5 per cent of the persons enumerated as part of the homeless count were covered by the Dublin region on Census Night. Of the 5,009 people enumerated as part of the Dublin region, 55.9 per cent or 2,802 were male. The next largest region was the South West. Of the 471 homeless persons enumerated in this region, 285 were male."
   ]
  },
  {
   "cell_type": "code",
   "execution_count": 29,
   "metadata": {},
   "outputs": [
    {
     "data": {
      "text/html": [
       "<div>\n",
       "<style scoped>\n",
       "    .dataframe tbody tr th:only-of-type {\n",
       "        vertical-align: middle;\n",
       "    }\n",
       "\n",
       "    .dataframe tbody tr th {\n",
       "        vertical-align: top;\n",
       "    }\n",
       "\n",
       "    .dataframe thead th {\n",
       "        text-align: right;\n",
       "    }\n",
       "</style>\n",
       "<table border=\"1\" class=\"dataframe\">\n",
       "  <thead>\n",
       "    <tr style=\"text-align: right;\">\n",
       "      <th></th>\n",
       "      <th>Region</th>\n",
       "      <th>Male</th>\n",
       "      <th>Female</th>\n",
       "      <th>Total</th>\n",
       "    </tr>\n",
       "  </thead>\n",
       "  <tbody>\n",
       "    <tr>\n",
       "      <th>0</th>\n",
       "      <td>Dublin</td>\n",
       "      <td>2802</td>\n",
       "      <td>2207</td>\n",
       "      <td>5009</td>\n",
       "    </tr>\n",
       "    <tr>\n",
       "      <th>1</th>\n",
       "      <td>South West</td>\n",
       "      <td>285</td>\n",
       "      <td>186</td>\n",
       "      <td>471</td>\n",
       "    </tr>\n",
       "    <tr>\n",
       "      <th>2</th>\n",
       "      <td>Mid West</td>\n",
       "      <td>265</td>\n",
       "      <td>131</td>\n",
       "      <td>396</td>\n",
       "    </tr>\n",
       "    <tr>\n",
       "      <th>3</th>\n",
       "      <td>South East</td>\n",
       "      <td>203</td>\n",
       "      <td>120</td>\n",
       "      <td>323</td>\n",
       "    </tr>\n",
       "    <tr>\n",
       "      <th>4</th>\n",
       "      <td>Mid East</td>\n",
       "      <td>163</td>\n",
       "      <td>68</td>\n",
       "      <td>231</td>\n",
       "    </tr>\n",
       "    <tr>\n",
       "      <th>5</th>\n",
       "      <td>West</td>\n",
       "      <td>119</td>\n",
       "      <td>70</td>\n",
       "      <td>189</td>\n",
       "    </tr>\n",
       "    <tr>\n",
       "      <th>6</th>\n",
       "      <td>North East</td>\n",
       "      <td>100</td>\n",
       "      <td>53</td>\n",
       "      <td>153</td>\n",
       "    </tr>\n",
       "    <tr>\n",
       "      <th>7</th>\n",
       "      <td>Midland</td>\n",
       "      <td>50</td>\n",
       "      <td>44</td>\n",
       "      <td>94</td>\n",
       "    </tr>\n",
       "    <tr>\n",
       "      <th>8</th>\n",
       "      <td>North West</td>\n",
       "      <td>31</td>\n",
       "      <td>9</td>\n",
       "      <td>40</td>\n",
       "    </tr>\n",
       "    <tr>\n",
       "      <th>9</th>\n",
       "      <td>Total</td>\n",
       "      <td>4018</td>\n",
       "      <td>2888</td>\n",
       "      <td>6906</td>\n",
       "    </tr>\n",
       "  </tbody>\n",
       "</table>\n",
       "</div>"
      ],
      "text/plain": [
       "       Region  Male  Female  Total\n",
       "0      Dublin  2802    2207   5009\n",
       "1  South West   285     186    471\n",
       "2    Mid West   265     131    396\n",
       "3  South East   203     120    323\n",
       "4    Mid East   163      68    231\n",
       "5        West   119      70    189\n",
       "6  North East   100      53    153\n",
       "7     Midland    50      44     94\n",
       "8  North West    31       9     40\n",
       "9       Total  4018    2888   6906"
      ]
     },
     "execution_count": 29,
     "metadata": {},
     "output_type": "execute_result"
    }
   ],
   "source": [
    "# View location data\n",
    "ls = pd.read_csv(\"location.stats.csv\")\n",
    "ls"
   ]
  },
  {
   "cell_type": "code",
   "execution_count": 30,
   "metadata": {},
   "outputs": [
    {
     "data": {
      "text/plain": [
       "<matplotlib.axes._subplots.AxesSubplot at 0x1f3cc76d760>"
      ]
     },
     "execution_count": 30,
     "metadata": {},
     "output_type": "execute_result"
    },
    {
     "data": {
      "image/png": "[encoded data removed]",
      "text/plain": [
       "<Figure size 432x288 with 1 Axes>"
      ]
     },
     "metadata": {},
     "output_type": "display_data"
    }
   ],
   "source": [
    "# Drop row 9 (Total) for plotting \n",
    "locStat = ls.drop([9])\n",
    "\n",
    "# Create plot\n",
    "locStat.plot(x='Region', y='Total', kind = 'line')"
   ]
  },
  {
   "cell_type": "markdown",
   "metadata": {},
   "source": [
    "From the distribution it is clear to see that Dublin contains the majority of the homeless people at 72.5%. This distribution could be difficult to replicate due to such a big fall off to the rest of the regions. In order to simulate this data I will use the numpy.random.choice function and select items from a list based on the correct probability. Numpy.random.choice takes an array as a parameter and randomly returns one of its values, it can also be used to return multiple values. This is uselful when you want to choose multiple items from a particular list [3].  "
   ]
  },
  {
   "cell_type": "code",
   "execution_count": 31,
   "metadata": {},
   "outputs": [
    {
     "data": {
      "text/html": [
       "<div>\n",
       "<style scoped>\n",
       "    .dataframe tbody tr th:only-of-type {\n",
       "        vertical-align: middle;\n",
       "    }\n",
       "\n",
       "    .dataframe tbody tr th {\n",
       "        vertical-align: top;\n",
       "    }\n",
       "\n",
       "    .dataframe thead th {\n",
       "        text-align: right;\n",
       "    }\n",
       "</style>\n",
       "<table border=\"1\" class=\"dataframe\">\n",
       "  <thead>\n",
       "    <tr style=\"text-align: right;\">\n",
       "      <th></th>\n",
       "      <th>Gender</th>\n",
       "      <th>Age</th>\n",
       "      <th>Location</th>\n",
       "      <th>Accomodation Type</th>\n",
       "    </tr>\n",
       "  </thead>\n",
       "  <tbody>\n",
       "    <tr>\n",
       "      <th>0</th>\n",
       "      <td>Male</td>\n",
       "      <td>31.0</td>\n",
       "      <td>South East</td>\n",
       "      <td>In Accomodation</td>\n",
       "    </tr>\n",
       "    <tr>\n",
       "      <th>1</th>\n",
       "      <td>Female</td>\n",
       "      <td>41.0</td>\n",
       "      <td>Dublin</td>\n",
       "      <td>In Accomodation</td>\n",
       "    </tr>\n",
       "    <tr>\n",
       "      <th>2</th>\n",
       "      <td>Male</td>\n",
       "      <td>15.0</td>\n",
       "      <td>Dublin</td>\n",
       "      <td>In Accomodation</td>\n",
       "    </tr>\n",
       "    <tr>\n",
       "      <th>3</th>\n",
       "      <td>Female</td>\n",
       "      <td>28.0</td>\n",
       "      <td>Dublin</td>\n",
       "      <td>In Accomodation</td>\n",
       "    </tr>\n",
       "    <tr>\n",
       "      <th>4</th>\n",
       "      <td>Female</td>\n",
       "      <td>24.0</td>\n",
       "      <td>West</td>\n",
       "      <td>In Accomodation</td>\n",
       "    </tr>\n",
       "    <tr>\n",
       "      <th>...</th>\n",
       "      <td>...</td>\n",
       "      <td>...</td>\n",
       "      <td>...</td>\n",
       "      <td>...</td>\n",
       "    </tr>\n",
       "    <tr>\n",
       "      <th>4964</th>\n",
       "      <td>Male</td>\n",
       "      <td>40.0</td>\n",
       "      <td>Dublin</td>\n",
       "      <td>In Accomodation</td>\n",
       "    </tr>\n",
       "    <tr>\n",
       "      <th>4965</th>\n",
       "      <td>Male</td>\n",
       "      <td>51.0</td>\n",
       "      <td>South East</td>\n",
       "      <td>In Accomodation</td>\n",
       "    </tr>\n",
       "    <tr>\n",
       "      <th>4966</th>\n",
       "      <td>Female</td>\n",
       "      <td>28.0</td>\n",
       "      <td>Dublin</td>\n",
       "      <td>In Accomodation</td>\n",
       "    </tr>\n",
       "    <tr>\n",
       "      <th>4967</th>\n",
       "      <td>Male</td>\n",
       "      <td>54.0</td>\n",
       "      <td>South East</td>\n",
       "      <td>In Accomodation</td>\n",
       "    </tr>\n",
       "    <tr>\n",
       "      <th>4968</th>\n",
       "      <td>Female</td>\n",
       "      <td>48.0</td>\n",
       "      <td>Dublin</td>\n",
       "      <td>In Accomodation</td>\n",
       "    </tr>\n",
       "  </tbody>\n",
       "</table>\n",
       "<p>4969 rows × 4 columns</p>\n",
       "</div>"
      ],
      "text/plain": [
       "      Gender   Age    Location Accomodation Type\n",
       "0       Male  31.0  South East   In Accomodation\n",
       "1     Female  41.0      Dublin   In Accomodation\n",
       "2       Male  15.0      Dublin   In Accomodation\n",
       "3     Female  28.0      Dublin   In Accomodation\n",
       "4     Female  24.0        West   In Accomodation\n",
       "...      ...   ...         ...               ...\n",
       "4964    Male  40.0      Dublin   In Accomodation\n",
       "4965    Male  51.0  South East   In Accomodation\n",
       "4966  Female  28.0      Dublin   In Accomodation\n",
       "4967    Male  54.0  South East   In Accomodation\n",
       "4968  Female  48.0      Dublin   In Accomodation\n",
       "\n",
       "[4969 rows x 4 columns]"
      ]
     },
     "execution_count": 31,
     "metadata": {},
     "output_type": "execute_result"
    }
   ],
   "source": [
    "# Set the location variables\n",
    "location = ['Dublin', 'South West', 'Mid West', 'South East', 'Mid East', 'West', 'North East', 'Midlands', 'North West']\n",
    "# Set the parameters and generate array with locations\n",
    "loc = np.random.choice(location, 4969, p=[0.7253, 0.0682, 0.0573, 0.0467, 0.0334, 0.0274, 0.0222, 0.0137, 0.0058])\n",
    "# Add location to dataframe\n",
    "df['Location'] = loc\n",
    "# View dataframe\n",
    "df"
   ]
  },
  {
   "cell_type": "markdown",
   "metadata": {},
   "source": [
    "#### Accomodation Type\n",
    "\n",
    "Homeless persons were identified based on where they were on Census Night rather than by self-identification. This means that people in Long Term Accommodation (LTA) are excluded from the main results in this report, an approach agreed in advance with all the major stakeholders working in the area of homelessness [1]. In this report people are divided into two categories, Sleeping in accomodation or Sleeping rough. \n"
   ]
  },
  {
   "cell_type": "code",
   "execution_count": 32,
   "metadata": {},
   "outputs": [
    {
     "data": {
      "text/html": [
       "<div>\n",
       "<style scoped>\n",
       "    .dataframe tbody tr th:only-of-type {\n",
       "        vertical-align: middle;\n",
       "    }\n",
       "\n",
       "    .dataframe tbody tr th {\n",
       "        vertical-align: top;\n",
       "    }\n",
       "\n",
       "    .dataframe thead th {\n",
       "        text-align: right;\n",
       "    }\n",
       "</style>\n",
       "<table border=\"1\" class=\"dataframe\">\n",
       "  <thead>\n",
       "    <tr style=\"text-align: right;\">\n",
       "      <th></th>\n",
       "      <th>Category</th>\n",
       "      <th>Male</th>\n",
       "      <th>Female</th>\n",
       "      <th>Total</th>\n",
       "    </tr>\n",
       "  </thead>\n",
       "  <tbody>\n",
       "    <tr>\n",
       "      <th>0</th>\n",
       "      <td>Persons in accommodation</td>\n",
       "      <td>3914</td>\n",
       "      <td>2869</td>\n",
       "      <td>6783</td>\n",
       "    </tr>\n",
       "    <tr>\n",
       "      <th>1</th>\n",
       "      <td>Persons sleeping rough</td>\n",
       "      <td>104</td>\n",
       "      <td>19</td>\n",
       "      <td>123</td>\n",
       "    </tr>\n",
       "    <tr>\n",
       "      <th>2</th>\n",
       "      <td>Total</td>\n",
       "      <td>4018</td>\n",
       "      <td>2888</td>\n",
       "      <td>6906</td>\n",
       "    </tr>\n",
       "  </tbody>\n",
       "</table>\n",
       "</div>"
      ],
      "text/plain": [
       "                   Category  Male  Female  Total\n",
       "0  Persons in accommodation  3914    2869   6783\n",
       "1    Persons sleeping rough   104      19    123\n",
       "2                     Total  4018    2888   6906"
      ]
     },
     "execution_count": 32,
     "metadata": {},
     "output_type": "execute_result"
    }
   ],
   "source": [
    "# View accomodation data\n",
    "accType = pd.read_excel(\"AccomodationType.xlsx\")\n",
    "accType"
   ]
  },
  {
   "cell_type": "markdown",
   "metadata": {},
   "source": [
    "From the table above it is clear to see that males account for most of the rough sleepers. Of the 123 that were included in the report 104 were male while only 19 were female. In order to replicate this data I have decided to use the numpy.random.choice function and try simulate the data using the correct probability for each gender.  "
   ]
  },
  {
   "cell_type": "code",
   "execution_count": 37,
   "metadata": {},
   "outputs": [],
   "source": [
    "type = ['In Accomodation', 'Sleeping Rough']\n",
    "\n",
    "for idx, val in enumerate(df.itertuples()):\n",
    "    if df.Gender[idx] == \"Male\":\n",
    "            df.loc[idx, 'AccomodationType'] = np.random.choice(type, p=[0.9740, 0.0260]) \n",
    "    elif df.Gender[idx] == \"Female\":\n",
    "            df.loc[idx, 'AccomodationType'] = np.random.choice(type, p=[0.9934, 0.0066]) \n"
   ]
  },
  {
   "cell_type": "code",
   "execution_count": 42,
   "metadata": {},
   "outputs": [
    {
     "data": {
      "text/html": [
       "<div>\n",
       "<style scoped>\n",
       "    .dataframe tbody tr th:only-of-type {\n",
       "        vertical-align: middle;\n",
       "    }\n",
       "\n",
       "    .dataframe tbody tr th {\n",
       "        vertical-align: top;\n",
       "    }\n",
       "\n",
       "    .dataframe thead th {\n",
       "        text-align: right;\n",
       "    }\n",
       "</style>\n",
       "<table border=\"1\" class=\"dataframe\">\n",
       "  <thead>\n",
       "    <tr style=\"text-align: right;\">\n",
       "      <th></th>\n",
       "      <th>Gender</th>\n",
       "      <th>Age</th>\n",
       "      <th>Location</th>\n",
       "      <th>Accomodation Type</th>\n",
       "      <th>AccomodationType</th>\n",
       "    </tr>\n",
       "  </thead>\n",
       "  <tbody>\n",
       "    <tr>\n",
       "      <th>0</th>\n",
       "      <td>Male</td>\n",
       "      <td>31.0</td>\n",
       "      <td>South East</td>\n",
       "      <td>In Accomodation</td>\n",
       "      <td>In Accomodation</td>\n",
       "    </tr>\n",
       "    <tr>\n",
       "      <th>1</th>\n",
       "      <td>Female</td>\n",
       "      <td>41.0</td>\n",
       "      <td>Dublin</td>\n",
       "      <td>In Accomodation</td>\n",
       "      <td>In Accomodation</td>\n",
       "    </tr>\n",
       "    <tr>\n",
       "      <th>2</th>\n",
       "      <td>Male</td>\n",
       "      <td>15.0</td>\n",
       "      <td>Dublin</td>\n",
       "      <td>In Accomodation</td>\n",
       "      <td>In Accomodation</td>\n",
       "    </tr>\n",
       "    <tr>\n",
       "      <th>3</th>\n",
       "      <td>Female</td>\n",
       "      <td>28.0</td>\n",
       "      <td>Dublin</td>\n",
       "      <td>In Accomodation</td>\n",
       "      <td>In Accomodation</td>\n",
       "    </tr>\n",
       "    <tr>\n",
       "      <th>4</th>\n",
       "      <td>Female</td>\n",
       "      <td>24.0</td>\n",
       "      <td>West</td>\n",
       "      <td>In Accomodation</td>\n",
       "      <td>In Accomodation</td>\n",
       "    </tr>\n",
       "    <tr>\n",
       "      <th>...</th>\n",
       "      <td>...</td>\n",
       "      <td>...</td>\n",
       "      <td>...</td>\n",
       "      <td>...</td>\n",
       "      <td>...</td>\n",
       "    </tr>\n",
       "    <tr>\n",
       "      <th>4964</th>\n",
       "      <td>Male</td>\n",
       "      <td>40.0</td>\n",
       "      <td>Dublin</td>\n",
       "      <td>In Accomodation</td>\n",
       "      <td>In Accomodation</td>\n",
       "    </tr>\n",
       "    <tr>\n",
       "      <th>4965</th>\n",
       "      <td>Male</td>\n",
       "      <td>51.0</td>\n",
       "      <td>South East</td>\n",
       "      <td>In Accomodation</td>\n",
       "      <td>In Accomodation</td>\n",
       "    </tr>\n",
       "    <tr>\n",
       "      <th>4966</th>\n",
       "      <td>Female</td>\n",
       "      <td>28.0</td>\n",
       "      <td>Dublin</td>\n",
       "      <td>In Accomodation</td>\n",
       "      <td>In Accomodation</td>\n",
       "    </tr>\n",
       "    <tr>\n",
       "      <th>4967</th>\n",
       "      <td>Male</td>\n",
       "      <td>54.0</td>\n",
       "      <td>South East</td>\n",
       "      <td>In Accomodation</td>\n",
       "      <td>In Accomodation</td>\n",
       "    </tr>\n",
       "    <tr>\n",
       "      <th>4968</th>\n",
       "      <td>Female</td>\n",
       "      <td>48.0</td>\n",
       "      <td>Dublin</td>\n",
       "      <td>In Accomodation</td>\n",
       "      <td>In Accomodation</td>\n",
       "    </tr>\n",
       "  </tbody>\n",
       "</table>\n",
       "<p>4969 rows × 5 columns</p>\n",
       "</div>"
      ],
      "text/plain": [
       "      Gender   Age    Location Accomodation Type AccomodationType\n",
       "0       Male  31.0  South East   In Accomodation  In Accomodation\n",
       "1     Female  41.0      Dublin   In Accomodation  In Accomodation\n",
       "2       Male  15.0      Dublin   In Accomodation  In Accomodation\n",
       "3     Female  28.0      Dublin   In Accomodation  In Accomodation\n",
       "4     Female  24.0        West   In Accomodation  In Accomodation\n",
       "...      ...   ...         ...               ...              ...\n",
       "4964    Male  40.0      Dublin   In Accomodation  In Accomodation\n",
       "4965    Male  51.0  South East   In Accomodation  In Accomodation\n",
       "4966  Female  28.0      Dublin   In Accomodation  In Accomodation\n",
       "4967    Male  54.0  South East   In Accomodation  In Accomodation\n",
       "4968  Female  48.0      Dublin   In Accomodation  In Accomodation\n",
       "\n",
       "[4969 rows x 5 columns]"
      ]
     },
     "execution_count": 42,
     "metadata": {},
     "output_type": "execute_result"
    }
   ],
   "source": [
    "df"
   ]
  },
  {
   "cell_type": "code",
   "execution_count": null,
   "metadata": {},
   "outputs": [],
   "source": []
  }
 ],
 "metadata": {
  "kernelspec": {
   "display_name": "Python 3",
   "language": "python",
   "name": "python3"
  },
  "language_info": {
   "codemirror_mode": {
    "name": "ipython",
    "version": 3
   },
   "file_extension": ".py",
   "mimetype": "text/x-python",
   "name": "python",
   "nbconvert_exporter": "python",
   "pygments_lexer": "ipython3",
   "version": "3.8.3"
  }
 },
 "nbformat": 4,
 "nbformat_minor": 4
}
